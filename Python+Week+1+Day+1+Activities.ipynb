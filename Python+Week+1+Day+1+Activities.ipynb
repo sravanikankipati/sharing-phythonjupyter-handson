{
 "cells": [
  {
   "cell_type": "code",
   "execution_count": null,
   "id": "ae6c54ce-8e65-4a85-ae31-8810d6452fa6",
   "metadata": {
    "id": "ae6c54ce-8e65-4a85-ae31-8810d6452fa6"
   },
   "outputs": [],
   "source": [
    "def q1(x, y):\n",
    "    result = (x + y) * (x + y)\n",
    "    return result\n"
   ]
  },
  {
   "cell_type": "code",
   "execution_count": null,
   "id": "67ae10a4-6f68-4f1e-81f4-a75d26318b20",
   "metadata": {
    "id": "67ae10a4-6f68-4f1e-81f4-a75d26318b20"
   },
   "outputs": [],
   "source": [
    "def q2(string):\n",
    "    try:\n",
    "        result = int(string)\n",
    "    except:\n",
    "        pass\n",
    "        try:\n",
    "            result = float(string)\n",
    "        except:\n",
    "            print(\"error: string parameter\")\n",
    "    \n",
    "    return result"
   ]
  },
  {
   "cell_type": "code",
   "execution_count": null,
   "id": "d49dbb8e-bf1c-4b0a-9eee-7ec06adfd0d9",
   "metadata": {
    "id": "d49dbb8e-bf1c-4b0a-9eee-7ec06adfd0d9"
   },
   "outputs": [],
   "source": [
    "def print_sum_n_positive_ints(n):\n",
    "    sum = (n * (n + 1)) / 2\n",
    "    return sum"
   ]
  },
  {
   "cell_type": "code",
   "execution_count": 14,
   "id": "362df1e4-e9c7-4846-88bd-61ba4c518741",
   "metadata": {
    "id": "362df1e4-e9c7-4846-88bd-61ba4c518741"
   },
   "outputs": [],
   "source": [
    "def dist_in_feet_to_in_yard_miles(d_ft):\n",
    "  print(f\"the dist (ft) {d_ft}\\nin inches is {d_ft * 12.:.2f}\\n\" +\n",
    "        f\"in yards  is {d_ft / 3.:.2f}\\n\" +\n",
    "        f\"in miles is {d_ft / 5280.:.2f}\")\n",
    "  return"
   ]
  },
  {
   "cell_type": "code",
   "execution_count": 16,
   "id": "d3312b6a-6eb9-4c12-b281-b52a2dcd04a3",
   "metadata": {
    "colab": {
     "base_uri": "https://localhost:8080/"
    },
    "id": "d3312b6a-6eb9-4c12-b281-b52a2dcd04a3",
    "outputId": "0b4b0397-d13d-41d9-b3cd-74d5c86974db"
   },
   "outputs": [
    {
     "name": "stdout",
     "output_type": "stream",
     "text": [
      "the dist (ft) 1000\n",
      "in inches is 12000.00\n",
      "in yards  is 333.33\n",
      "in miles is 0.19\n"
     ]
    }
   ],
   "source": [
    "dist_in_feet_to_in_yard_miles(1000)"
   ]
  },
  {
   "cell_type": "code",
   "execution_count": 20,
   "id": "kEf_Px6Pwbt9",
   "metadata": {
    "id": "kEf_Px6Pwbt9"
   },
   "outputs": [],
   "source": [
    "def any_unit_of_time_to_seconds(days, hours, mins, secs) :\n",
    "  SECONDS_IN_MIN = 60\n",
    "  MINS_IN_HOUR = 60\n",
    "  HOURS_IN_DAY = 24\n",
    "\n",
    "  total_seconds = days * HOURS_IN_DAY * MINS_IN_HOUR * SECONDS_IN_MIN + \\\n",
    "                  hours * MINS_IN_HOUR * SECONDS_IN_MIN + \\\n",
    "                  mins * SECONDS_IN_MIN + \\\n",
    "                  secs\n",
    "\n",
    "  print(f\"the time in {days}d, {hours}h, {mins}m, {secs}s is:\\n\" \n",
    "        f\" {total_seconds} seconds in total.\")\n",
    "  return"
   ]
  },
  {
   "cell_type": "code",
   "execution_count": 36,
   "id": "Als43s6TyHrl",
   "metadata": {
    "colab": {
     "base_uri": "https://localhost:8080/"
    },
    "id": "Als43s6TyHrl",
    "outputId": "3fd162bd-c912-47fa-c8c7-e09f4c3838f5"
   },
   "outputs": [
    {
     "name": "stdout",
     "output_type": "stream",
     "text": [
      "the time in 2d, 2h, 2m, 59s is:\n",
      " 180179 seconds in total.\n"
     ]
    }
   ],
   "source": [
    "any_unit_of_time_to_seconds(2, 2, 2, 59)"
   ]
  },
  {
   "cell_type": "code",
   "execution_count": 34,
   "id": "EtZo-4LbyHmV",
   "metadata": {
    "id": "EtZo-4LbyHmV"
   },
   "outputs": [],
   "source": [
    "def seconds_to_days_hour_mins_seconds(total_secs):\n",
    "  SECONDS_IN_MIN = 60\n",
    "  MINS_IN_HOUR = 60\n",
    "  HOURS_IN_DAY = 24\n",
    "  SECONDS_IN_DAY = HOURS_IN_DAY * MINS_IN_HOUR * SECONDS_IN_MIN\n",
    "  SECONDS_IN_HOUR = MINS_IN_HOUR * SECONDS_IN_MIN\n",
    "\n",
    "  days = total_secs // SECONDS_IN_DAY\n",
    "  rem_sec = total_secs - days * SECONDS_IN_DAY\n",
    "\n",
    "  hours = rem_sec // SECONDS_IN_HOUR\n",
    "  rem_sec = rem_sec - hours * SECONDS_IN_HOUR\n",
    "\n",
    "  mins = rem_sec // SECONDS_IN_MIN\n",
    "  rem_sec = rem_sec - mins * SECONDS_IN_MIN\n",
    "\n",
    "  secs = rem_sec\n",
    "\n",
    "  print(f\"For {total_secs} seconds in total, we have \\n\"\n",
    "        f\"{days}d, {hours}h, {mins}m, {secs}s is:\\n\" )\n",
    "  return"
   ]
  },
  {
   "cell_type": "code",
   "execution_count": 37,
   "id": "AqAucaKO2yUj",
   "metadata": {
    "colab": {
     "base_uri": "https://localhost:8080/"
    },
    "id": "AqAucaKO2yUj",
    "outputId": "c43bcdd2-d66f-4324-e3de-4eb2e4c69b93"
   },
   "outputs": [
    {
     "name": "stdout",
     "output_type": "stream",
     "text": [
      "For 180179 seconds in total, we have \n",
      "2d, 2h, 2m, 59s is:\n",
      "\n"
     ]
    }
   ],
   "source": [
    "seconds_to_days_hour_mins_seconds(180179)"
   ]
  },
  {
   "cell_type": "code",
   "execution_count": 38,
   "id": "d8EIsemo02yv",
   "metadata": {
    "id": "d8EIsemo02yv"
   },
   "outputs": [],
   "source": [
    "def q7(x,y):\n",
    "  print(f\"{x}+{y}={x+y}\")"
   ]
  },
  {
   "cell_type": "code",
   "execution_count": 39,
   "id": "nwqOc1O33Q5f",
   "metadata": {
    "colab": {
     "base_uri": "https://localhost:8080/"
    },
    "id": "nwqOc1O33Q5f",
    "outputId": "5e282050-54ef-4c4b-9ea8-a6b716980863"
   },
   "outputs": [
    {
     "name": "stdout",
     "output_type": "stream",
     "text": [
      "30+20=50\n"
     ]
    }
   ],
   "source": [
    "q7(30,20)"
   ]
  },
  {
   "cell_type": "code",
   "execution_count": 42,
   "id": "mXUm5S2F3SUC",
   "metadata": {
    "id": "mXUm5S2F3SUC"
   },
   "outputs": [],
   "source": [
    "def q8(name):\n",
    "  if (name == '1'):\n",
    "    print(\"First day of a Month\")\n",
    "  \n"
   ]
  },
  {
   "cell_type": "code",
   "execution_count": 43,
   "id": "FHl_8g373p9i",
   "metadata": {
    "colab": {
     "base_uri": "https://localhost:8080/"
    },
    "id": "FHl_8g373p9i",
    "outputId": "e0d80be6-7c28-49df-e06a-eecf870916fd"
   },
   "outputs": [
    {
     "name": "stdout",
     "output_type": "stream",
     "text": [
      "First day of a Month\n"
     ]
    }
   ],
   "source": [
    "q8('1')"
   ]
  },
  {
   "cell_type": "code",
   "execution_count": 44,
   "id": "Bp-Dffv33vpG",
   "metadata": {
    "id": "Bp-Dffv33vpG"
   },
   "outputs": [],
   "source": [
    "q8(\"arst\")"
   ]
  },
  {
   "cell_type": "code",
   "execution_count": 50,
   "id": "UUk6bbV03yfv",
   "metadata": {
    "id": "UUk6bbV03yfv"
   },
   "outputs": [],
   "source": [
    "def q9(variable):\n",
    "  if isinstance(variable,str):\n",
    "    print(\"is a string\")\n",
    "  elif isinstance(variable,int):\n",
    "    print(\"is a integer\")"
   ]
  },
  {
   "cell_type": "code",
   "execution_count": 54,
   "id": "gNUplMnC4AsK",
   "metadata": {
    "colab": {
     "base_uri": "https://localhost:8080/"
    },
    "id": "gNUplMnC4AsK",
    "outputId": "bb3f08aa-26f7-42ee-98b0-93208ef4fc2c"
   },
   "outputs": [
    {
     "name": "stdout",
     "output_type": "stream",
     "text": [
      "is a integer\n"
     ]
    }
   ],
   "source": [
    "q9(9)"
   ]
  },
  {
   "cell_type": "code",
   "execution_count": 62,
   "id": "beSWXp9I4C-9",
   "metadata": {
    "id": "beSWXp9I4C-9"
   },
   "outputs": [],
   "source": [
    "#import math\n",
    "\n",
    "def find_max_and_min_in_list(input_list):\n",
    "  print(f\"For the list {input_list},\"\n",
    "        f\"\\nmax = {max(input_list)}\\nmin = {min(input_list)}\")"
   ]
  },
  {
   "cell_type": "code",
   "execution_count": 63,
   "id": "ww-U4KFx5W5m",
   "metadata": {
    "colab": {
     "base_uri": "https://localhost:8080/"
    },
    "id": "ww-U4KFx5W5m",
    "outputId": "96a2de9d-0450-497b-8dd5-7db9071bdf13"
   },
   "outputs": [
    {
     "name": "stdout",
     "output_type": "stream",
     "text": [
      "For the list [1, 2, 3, 4],\n",
      "max = 4\n",
      "min = 1\n"
     ]
    }
   ],
   "source": [
    "find_max_and_min_in_list([1,2,3,4])"
   ]
  },
  {
   "cell_type": "code",
   "execution_count": 1,
   "id": "QKb3aLGx5ad6",
   "metadata": {
    "id": "QKb3aLGx5ad6"
   },
   "outputs": [
    {
     "data": {
      "text/plain": [
       "'2'"
      ]
     },
     "execution_count": 1,
     "metadata": {},
     "output_type": "execute_result"
    }
   ],
   "source": [
    "str(1+1)"
   ]
  },
  {
   "cell_type": "code",
   "execution_count": 2,
   "id": "856d072a",
   "metadata": {},
   "outputs": [
    {
     "data": {
      "text/plain": [
       "'ab3'"
      ]
     },
     "execution_count": 2,
     "metadata": {},
     "output_type": "execute_result"
    }
   ],
   "source": [
    "\"123\".replace(\"12\", \"ab\")\n"
   ]
  },
  {
   "cell_type": "code",
   "execution_count": 8,
   "id": "ff241b53",
   "metadata": {},
   "outputs": [
    {
     "data": {
      "text/plain": [
       "'12'"
      ]
     },
     "execution_count": 8,
     "metadata": {},
     "output_type": "execute_result"
    }
   ],
   "source": [
    "'1'+'2'"
   ]
  },
  {
   "cell_type": "code",
   "execution_count": 19,
   "id": "b8a30ae8",
   "metadata": {},
   "outputs": [
    {
     "data": {
      "text/plain": [
       "str"
      ]
     },
     "execution_count": 19,
     "metadata": {},
     "output_type": "execute_result"
    }
   ],
   "source": [
    "type (\"7.1\")"
   ]
  },
  {
   "cell_type": "code",
   "execution_count": 20,
   "id": "6318576a",
   "metadata": {},
   "outputs": [
    {
     "data": {
      "text/plain": [
       "float"
      ]
     },
     "execution_count": 20,
     "metadata": {},
     "output_type": "execute_result"
    }
   ],
   "source": [
    "type (1/1)"
   ]
  }
 ],
 "metadata": {
  "colab": {
   "collapsed_sections": [],
   "name": "Python+Week+1+Day+1+Activities.ipynb",
   "provenance": []
  },
  "kernelspec": {
   "display_name": "Python 3",
   "language": "python",
   "name": "python3"
  },
  "language_info": {
   "codemirror_mode": {
    "name": "ipython",
    "version": 3
   },
   "file_extension": ".py",
   "mimetype": "text/x-python",
   "name": "python",
   "nbconvert_exporter": "python",
   "pygments_lexer": "ipython3",
   "version": "3.8.8"
  }
 },
 "nbformat": 4,
 "nbformat_minor": 5
}
