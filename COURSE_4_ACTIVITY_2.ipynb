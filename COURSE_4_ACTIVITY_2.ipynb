{
  "nbformat": 4,
  "nbformat_minor": 0,
  "metadata": {
    "colab": {
      "name": "COURSE_4_ACTIVITY_2.ipynb",
      "provenance": [],
      "collapsed_sections": []
    },
    "kernelspec": {
      "name": "python3",
      "display_name": "Python 3"
    },
    "language_info": {
      "name": "python"
    }
  },
  "cells": [
    {
      "cell_type": "code",
      "metadata": {
        "id": "nB4h7IR_7wHC"
      },
      "source": [
        "def q1(n):\n",
        "\n",
        "  if (n == 0):\n",
        "    print(\"is zero\")\n",
        "  else:\n",
        "    print(\"non zero\")\n",
        "  "
      ],
      "execution_count": 7,
      "outputs": []
    },
    {
      "cell_type": "code",
      "metadata": {
        "id": "VVjML1zA8SKq"
      },
      "source": [
        "def q2(n1, n2):\n",
        "  print(max([n1,n2]))\n",
        "  "
      ],
      "execution_count": 8,
      "outputs": []
    },
    {
      "cell_type": "code",
      "metadata": {
        "colab": {
          "base_uri": "https://localhost:8080/"
        },
        "id": "XyQrGJzu8dXV",
        "outputId": "358fd082-0915-4e28-d38c-e05bd2d23fd2"
      },
      "source": [
        "q2(1,2)"
      ],
      "execution_count": 9,
      "outputs": [
        {
          "output_type": "stream",
          "name": "stdout",
          "text": [
            "2\n"
          ]
        }
      ]
    },
    {
      "cell_type": "code",
      "metadata": {
        "id": "pW3relDG8e43"
      },
      "source": [
        "def q3(n):\n",
        "  if (n < 0):\n",
        "    print(\"is neg\")\n",
        "  else:\n",
        "    print(\"is pos\")"
      ],
      "execution_count": 10,
      "outputs": []
    },
    {
      "cell_type": "code",
      "metadata": {
        "colab": {
          "base_uri": "https://localhost:8080/"
        },
        "id": "j3JCQhnK8s-3",
        "outputId": "b3501254-5578-4270-a961-41cf7188b756"
      },
      "source": [
        "q3(-2)"
      ],
      "execution_count": 11,
      "outputs": [
        {
          "output_type": "stream",
          "name": "stdout",
          "text": [
            "is neg\n"
          ]
        }
      ]
    },
    {
      "cell_type": "code",
      "metadata": {
        "id": "uFh_DcMR8uGH"
      },
      "source": [
        "def q4(letter):\n",
        "  if letter in ['a','e','i','o','u']:\n",
        "    print(\"is vowel\")\n",
        "  elif letter in ['b','c','d','f','g','h','i','j','k','l','m','n','p','q','r','s','t','v','w','x','y','z']:\n",
        "    print(\"is consonant\")\n"
      ],
      "execution_count": 16,
      "outputs": []
    },
    {
      "cell_type": "code",
      "metadata": {
        "colab": {
          "base_uri": "https://localhost:8080/"
        },
        "id": "WDYyvz-69Etk",
        "outputId": "718f66f8-835c-474d-f578-f7e00d5e5555"
      },
      "source": [
        "q4(\"w\")"
      ],
      "execution_count": 17,
      "outputs": [
        {
          "output_type": "stream",
          "name": "stdout",
          "text": [
            "is consonant\n"
          ]
        }
      ]
    },
    {
      "cell_type": "code",
      "metadata": {
        "id": "EwH9psLR9GOY"
      },
      "source": [
        "def q5(marks):\n",
        "  if marks >=90:\n",
        "    print(\"Excellent performance\")\n",
        "  elif marks >=80: \n",
        "    print(\"Very Good performance\")\n",
        "  elif marks >=70:\n",
        "    print(\"Good performance\")\n",
        "  elif marks >=60:\n",
        "    print(\"average performance\")\n",
        "  else:\n",
        "    print(\"Poor performance\")\n",
        "\n"
      ],
      "execution_count": 18,
      "outputs": []
    },
    {
      "cell_type": "code",
      "metadata": {
        "colab": {
          "base_uri": "https://localhost:8080/"
        },
        "id": "CCyYAO5-9pdb",
        "outputId": "7ff4b54b-a7a0-4a6a-e42e-e4d3c4e7d624"
      },
      "source": [
        "q5(70)"
      ],
      "execution_count": 20,
      "outputs": [
        {
          "output_type": "stream",
          "name": "stdout",
          "text": [
            "Good performance\n"
          ]
        }
      ]
    },
    {
      "cell_type": "code",
      "metadata": {
        "id": "1TApxn109q7z"
      },
      "source": [
        "def q6(n1,n2,n3):\n",
        "  print(max([n1,n2,n3]))"
      ],
      "execution_count": 28,
      "outputs": []
    },
    {
      "cell_type": "code",
      "metadata": {
        "colab": {
          "base_uri": "https://localhost:8080/"
        },
        "id": "daW2rLgG93W7",
        "outputId": "bea04eff-7c51-48ed-c6f7-b1ebf8d40864"
      },
      "source": [
        "q6(1,5,3)"
      ],
      "execution_count": 29,
      "outputs": [
        {
          "output_type": "stream",
          "name": "stdout",
          "text": [
            "5\n"
          ]
        }
      ]
    },
    {
      "cell_type": "code",
      "metadata": {
        "id": "isOqzCpF955T"
      },
      "source": [
        "def q7(n1,n2,n3):\n",
        "  print(min([n1,n2,n3]))\n"
      ],
      "execution_count": 30,
      "outputs": []
    },
    {
      "cell_type": "code",
      "metadata": {
        "colab": {
          "base_uri": "https://localhost:8080/"
        },
        "id": "hmsebQzK98s2",
        "outputId": "8cd3b8da-8df4-441c-9c4e-3ace0c684d90"
      },
      "source": [
        "q7(1,5,3)"
      ],
      "execution_count": 31,
      "outputs": [
        {
          "output_type": "stream",
          "name": "stdout",
          "text": [
            "1\n"
          ]
        }
      ]
    },
    {
      "cell_type": "code",
      "metadata": {
        "id": "1x6DhEXK9-oX"
      },
      "source": [
        ""
      ],
      "execution_count": null,
      "outputs": []
    }
  ]
}